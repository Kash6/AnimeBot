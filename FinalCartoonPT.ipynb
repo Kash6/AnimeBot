{
  "nbformat": 4,
  "nbformat_minor": 0,
  "metadata": {
    "colab": {
      "name": "FinalCartoonPT.ipynb",
      "provenance": [],
      "collapsed_sections": []
    },
    "kernelspec": {
      "name": "python3",
      "display_name": "Python 3"
    },
    "language_info": {
      "name": "python"
    },
    "accelerator": "GPU"
  },
  "cells": [
    {
      "cell_type": "code",
      "metadata": {
        "colab": {
          "base_uri": "https://localhost:8080/"
        },
        "id": "NlVQzArxAxcy",
        "outputId": "bffe67dc-ba66-4a9f-ffd0-f73b5e5c47a4"
      },
      "source": [
        "from google.colab import drive\n",
        "drive.mount('/content/drive/')\n",
        "from google.colab import files "
      ],
      "execution_count": null,
      "outputs": [
        {
          "output_type": "stream",
          "text": [
            "Mounted at /content/drive/\n"
          ],
          "name": "stdout"
        }
      ]
    },
    {
      "cell_type": "code",
      "metadata": {
        "colab": {
          "base_uri": "https://localhost:8080/"
        },
        "id": "j9snlq74Bmp4",
        "outputId": "ef6ff6b0-f90d-459f-806e-f4d4f292e3dc"
      },
      "source": [
        "!git clone https://github.com/FilipAndersson245/cartoon-gan"
      ],
      "execution_count": null,
      "outputs": [
        {
          "output_type": "stream",
          "text": [
            "Cloning into 'cartoon-gan'...\n",
            "remote: Enumerating objects: 73, done.\u001b[K\n",
            "remote: Counting objects: 100% (73/73), done.\u001b[K\n",
            "remote: Compressing objects: 100% (42/42), done.\u001b[K\n",
            "remote: Total 94 (delta 31), reused 69 (delta 29), pack-reused 21\u001b[K\n",
            "Unpacking objects: 100% (94/94), done.\n"
          ],
          "name": "stdout"
        }
      ]
    },
    {
      "cell_type": "code",
      "metadata": {
        "colab": {
          "base_uri": "https://localhost:8080/"
        },
        "id": "ivHw2JECCHhe",
        "outputId": "13d129cb-7e30-434e-fb3d-26360957f436"
      },
      "source": [
        "!pip install tqdm pillow numpy matplotlib opencv-python"
      ],
      "execution_count": null,
      "outputs": [
        {
          "output_type": "stream",
          "text": [
            "Requirement already satisfied: tqdm in /usr/local/lib/python3.7/dist-packages (4.41.1)\n",
            "Requirement already satisfied: pillow in /usr/local/lib/python3.7/dist-packages (7.0.0)\n",
            "Requirement already satisfied: numpy in /usr/local/lib/python3.7/dist-packages (1.19.5)\n",
            "Requirement already satisfied: matplotlib in /usr/local/lib/python3.7/dist-packages (3.2.2)\n",
            "Requirement already satisfied: opencv-python in /usr/local/lib/python3.7/dist-packages (4.1.2.30)\n",
            "Requirement already satisfied: cycler>=0.10 in /usr/local/lib/python3.7/dist-packages (from matplotlib) (0.10.0)\n",
            "Requirement already satisfied: python-dateutil>=2.1 in /usr/local/lib/python3.7/dist-packages (from matplotlib) (2.8.1)\n",
            "Requirement already satisfied: kiwisolver>=1.0.1 in /usr/local/lib/python3.7/dist-packages (from matplotlib) (1.3.1)\n",
            "Requirement already satisfied: pyparsing!=2.0.4,!=2.1.2,!=2.1.6,>=2.0.1 in /usr/local/lib/python3.7/dist-packages (from matplotlib) (2.4.7)\n",
            "Requirement already satisfied: six in /usr/local/lib/python3.7/dist-packages (from cycler>=0.10->matplotlib) (1.15.0)\n"
          ],
          "name": "stdout"
        }
      ]
    },
    {
      "cell_type": "code",
      "metadata": {
        "id": "NSY5jGSDB9vO",
        "colab": {
          "base_uri": "https://localhost:8080/",
          "height": 363
        },
        "outputId": "9de4967d-14f1-4129-9f55-b3781aac8f57"
      },
      "source": [
        "import torch\n",
        "import torch.nn as nn\n",
        "import torch.nn.functional as F\n",
        "from torch.optim import AdamW\n",
        "from torch.optim.lr_scheduler import CyclicLR\n",
        "import torchvision.utils as vutils\n",
        "\n",
        "from utils.loss import ContentLoss, AdversialLoss\n",
        "from utils.transforms import get_default_transforms, get_no_aug_transform\n",
        "from utils.datasets import get_dataloader\n",
        "from utils.transforms import get_pair_transforms\n",
        "from torch.utils.tensorboard import SummaryWriter\n",
        "from models.discriminator import Discriminator\n",
        "from models.generator import Generator\n",
        "\n",
        "from datetime import datetime\n",
        "import numpy as np\n",
        "import cv2\n",
        "from PIL import Image\n",
        "import matplotlib.pyplot as plt\n",
        "import pickle\n",
        "import os"
      ],
      "execution_count": null,
      "outputs": [
        {
          "output_type": "error",
          "ename": "ModuleNotFoundError",
          "evalue": "ignored",
          "traceback": [
            "\u001b[0;31m---------------------------------------------------------------------------\u001b[0m",
            "\u001b[0;31mModuleNotFoundError\u001b[0m                       Traceback (most recent call last)",
            "\u001b[0;32m<ipython-input-4-d5b9c512a0a0>\u001b[0m in \u001b[0;36m<module>\u001b[0;34m()\u001b[0m\n\u001b[1;32m      6\u001b[0m \u001b[0;32mimport\u001b[0m \u001b[0mtorchvision\u001b[0m\u001b[0;34m.\u001b[0m\u001b[0mutils\u001b[0m \u001b[0;32mas\u001b[0m \u001b[0mvutils\u001b[0m\u001b[0;34m\u001b[0m\u001b[0;34m\u001b[0m\u001b[0m\n\u001b[1;32m      7\u001b[0m \u001b[0;34m\u001b[0m\u001b[0m\n\u001b[0;32m----> 8\u001b[0;31m \u001b[0;32mfrom\u001b[0m \u001b[0mutils\u001b[0m\u001b[0;34m.\u001b[0m\u001b[0mloss\u001b[0m \u001b[0;32mimport\u001b[0m \u001b[0mContentLoss\u001b[0m\u001b[0;34m,\u001b[0m \u001b[0mAdversialLoss\u001b[0m\u001b[0;34m\u001b[0m\u001b[0;34m\u001b[0m\u001b[0m\n\u001b[0m\u001b[1;32m      9\u001b[0m \u001b[0;32mfrom\u001b[0m \u001b[0mutils\u001b[0m\u001b[0;34m.\u001b[0m\u001b[0mtransforms\u001b[0m \u001b[0;32mimport\u001b[0m \u001b[0mget_default_transforms\u001b[0m\u001b[0;34m,\u001b[0m \u001b[0mget_no_aug_transform\u001b[0m\u001b[0;34m\u001b[0m\u001b[0;34m\u001b[0m\u001b[0m\n\u001b[1;32m     10\u001b[0m \u001b[0;32mfrom\u001b[0m \u001b[0mutils\u001b[0m\u001b[0;34m.\u001b[0m\u001b[0mdatasets\u001b[0m \u001b[0;32mimport\u001b[0m \u001b[0mget_dataloader\u001b[0m\u001b[0;34m\u001b[0m\u001b[0;34m\u001b[0m\u001b[0m\n",
            "\u001b[0;31mModuleNotFoundError\u001b[0m: No module named 'utils'",
            "",
            "\u001b[0;31m---------------------------------------------------------------------------\u001b[0;32m\nNOTE: If your import is failing due to a missing package, you can\nmanually install dependencies using either !pip or !apt.\n\nTo view examples of installing some common dependencies, click the\n\"Open Examples\" button below.\n\u001b[0;31m---------------------------------------------------------------------------\u001b[0m\n"
          ]
        }
      ]
    },
    {
      "cell_type": "code",
      "metadata": {
        "id": "h6EjQU-1CBQN"
      },
      "source": [
        "def train():\n",
        "    device = torch.device(\"cuda\" if torch.cuda.is_available() else \"cpu\")\n",
        "    print(device)\n",
        "    # Config\n",
        "    batch_size = 4\n",
        "    image_size = 256\n",
        "    learning_rate = 1e-3\n",
        "    beta1, beta2 = (.5, .99)\n",
        "    weight_decay = 1e-3\n",
        "    epochs = 100\n",
        "\n",
        "    # Models\n",
        "    netD = Discriminator().to(device)\n",
        "    netG = Generator().to(device)\n",
        "\n",
        "    optimizerD = AdamW(netD.parameters(), lr=learning_rate, betas=(beta1, beta2), weight_decay=weight_decay)\n",
        "    optimizerG = AdamW(netG.parameters(), lr=learning_rate, betas=(beta1, beta2), weight_decay=weight_decay)\n",
        "\n",
        "    # Labels\n",
        "    cartoon_labels = torch.ones (batch_size, 1, image_size // 4, image_size // 4).to(device)\n",
        "    fake_labels    = torch.zeros(batch_size, 1, image_size // 4, image_size // 4).to(device)\n",
        "\n",
        "    # Loss functions\n",
        "    content_loss = ContentLoss().to(device)\n",
        "    adv_loss     = AdversialLoss(cartoon_labels, fake_labels).to(device)\n",
        "    BCE_loss     = nn.BCELoss().to(device)\n",
        "\n",
        "    # Dataloaders\n",
        "    real_dataloader    = get_dataloader(\"/content/drive/MyDrive/Colab/pic2anime/trainA\",           size = image_size, bs = batch_size)\n",
        "    cartoon_dataloader = get_dataloader(\"/content/drive/MyDrive/Colab/pic2anime/trainB\",        size = image_size, bs = batch_size)\n",
        "    edge_dataloader    = get_dataloader(\"/content/drive/MyDrive/Colab/pic2anime/trainB_smooth\", size = image_size, bs = batch_size)\n",
        "    last_epoch = 0\n",
        "    last_i = 0\n",
        "    # --------------------------------------------------------------------------------------------- #\n",
        "    # Training Loop\n",
        "    tracked_images = next(iter(real_dataloader))[0].to(device)\n",
        "    original_images = tracked_images.detach().cpu()\n",
        "    grid = vutils.make_grid(original_images, padding=2, normalize=True, nrow=3)\n",
        "    plt.imsave(f\"/content/cartoon-gan/results/original.png\", np.transpose(grid, (1,2,0)).numpy())\n",
        "    netG.load_state_dict(torch.load(\"_trained_netG32.pth\"))\n",
        "    netD.load_state_dict(torch.load(\"_trained_netD32.pth\"))\n",
        "    with open(\"iter_data32.pickle\", \"rb\") as handle:\n",
        "      last_epoch, last_i = pickle.load(handle)\n",
        "\n",
        "    \n",
        "    # Lists to keep track of progress\"\n",
        "    img_list = []\n",
        "    G_losses = []\n",
        "    D_losses = []\n",
        "    iters = 0\n",
        "    start_epoch = last_epoch\n",
        "    start_i = last_i\n",
        "\n",
        "\n",
        "    print(\"Starting Training Loop...\")\n",
        "    # For each epoch.\n",
        "    for epoch in range(start_epoch,epochs):\n",
        "        # For each batch in the dataloader.\n",
        "        real_dl_iter = iter(real_dataloader)\n",
        "        cartoon_dl_iter = iter(cartoon_dataloader)\n",
        "        edge_dl_iter = iter(edge_dataloader)\n",
        "        iterations =  min(len(real_dl_iter), len(cartoon_dl_iter))\n",
        "        for i in range(start_i,iterations):\n",
        "            real_data = next(real_dl_iter)\n",
        "            cartoon_data = next(cartoon_dl_iter)\n",
        "            edge_data = next(edge_dl_iter)\n",
        "            ############################\n",
        "            # (1) Update D network: maximize log(D(x)) + log(1 - D(G(z)))\n",
        "            ###########################\n",
        "            \n",
        "            # Reset Discriminator gradient.\n",
        "            netD.zero_grad()\n",
        "\n",
        "            # Format batch.\n",
        "            cartoon_data   = cartoon_data.to(device)\n",
        "            edge_data      = edge_data.to(device)\n",
        "            real_data      = real_data.to(device)\n",
        "\n",
        "            # Generate image\n",
        "            generated_data = netG(real_data)\n",
        "\n",
        "            # Forward pass all batches through D.\n",
        "            cartoon_pred   = netD(cartoon_data)      #.view(-1)\n",
        "            edge_pred      = netD(edge_data)         #.view(-1)\n",
        "            generated_pred = netD(generated_data)    #.view(-1)\n",
        "\n",
        "            print(generated_data.is_cuda, real_data.is_cuda)\n",
        "\n",
        "            # Calculate discriminator loss on all batches.\n",
        "            errD = adv_loss(cartoon_pred, generated_pred, edge_pred)\n",
        "            \n",
        "            # Calculate gradients for D in backward pass\n",
        "            errD.backward(retain_graph=True)\n",
        "            D_x = cartoon_pred.mean().item() # Should be close to 1\n",
        "\n",
        "            # Update D\n",
        "            optimizerD.step()\n",
        "\n",
        "\n",
        "            ############################\n",
        "            # (2) Update G network: maximize log(D(G(z)))\n",
        "            ###########################\n",
        "            \n",
        "            # Reset Generator gradient.\n",
        "            netG.zero_grad()\n",
        "            \n",
        "            # Since we just updated D, perform another forward pass of all-fake batch through D\n",
        "            generated_pred = netD(generated_data) #.view(-1)\n",
        "\n",
        "            # Calculate G's loss based on this output\n",
        "            print(generated_data.is_cuda, real_data.is_cuda)\n",
        "            print(\"generated_pred:\", generated_pred.is_cuda, \"cartoon_labels:\", cartoon_labels.is_cuda)\n",
        "            errG = BCE_loss(generated_pred, cartoon_labels) + content_loss(generated_data, real_data)\n",
        "\n",
        "            # Calculate gradients for G\n",
        "            errG.backward()\n",
        "\n",
        "            D_G_z2 = generated_pred.mean().item() # Should be close to 1\n",
        "            \n",
        "            # Update G\n",
        "            optimizerG.step()\n",
        "            \n",
        "            # ---------------------------------------------------------------------------------------- #\n",
        "\n",
        "            # Output training stats\n",
        "            if i % 50 == 0:\n",
        "                print('[%d/%d][%d/%d]\\tLoss_D: %.4f\\tLoss_G: %.4f\\tD(x): %.4f\\tD(G(z)): null / %.4f'\n",
        "                    % (epoch, epochs, i, len(real_dataloader),\n",
        "                        errD.item(), errG.item(), D_x, D_G_z2))\n",
        "\n",
        "            # Save Losses for plotting later\n",
        "            G_losses.append(errG.item())\n",
        "            D_losses.append(errD.item())\n",
        "\n",
        "            # Check how the generator is doing by saving G's output on tracked_images\n",
        "            if (iters % 500 == 0) or ((epoch == epochs-1) and (i == len(dataloader)-1)):\n",
        "                with torch.no_grad():\n",
        "                    \n",
        "                    fake = netG(tracked_images.unsqueeze(0)).detach().cpu()\n",
        "                img_list.append(vutils.make_grid(fake, padding=2, normalize=True))\n",
        "\n",
        "            iters += 1\n",
        "            last_i = i\n",
        "        start_i = 0\n",
        "        last_epoch = epoch\n",
        "        torch.save(netG.state_dict(), \"_trained_netG\"+str(epoch)+\".pth\")\n",
        "        torch.save(netD.state_dict(), \"_trained_netD\"+str(epoch)+\".pth\")\n",
        "        files.download(\"_trained_netG\"+str(epoch)+\".pth\")\n",
        "        files.download(\"_trained_netD\"+str(epoch)+\".pth\")\n",
        "        with open(\"iter_data\"+str(epoch)+\".pickle\", \"wb\") as handle:\n",
        "           pickle.dump([last_epoch, last_i], handle)\n",
        "           print(\"file saved\")\n",
        "           files.download(\"iter_data\"+str(epoch)+\".pickle\")\n",
        "         "
      ],
      "execution_count": null,
      "outputs": []
    },
    {
      "cell_type": "code",
      "metadata": {
        "id": "qBSPaBJKE8Uf"
      },
      "source": [
        "if __name__ == \"__main__\":\n",
        "    train()"
      ],
      "execution_count": null,
      "outputs": []
    },
    {
      "cell_type": "code",
      "metadata": {
        "id": "2y9MW-1rIjCA",
        "colab": {
          "base_uri": "https://localhost:8080/",
          "height": 36
        },
        "outputId": "17ca3eaa-eae3-4200-e4af-ac2ab3ec7e43"
      },
      "source": [
        "pwd"
      ],
      "execution_count": null,
      "outputs": [
        {
          "output_type": "execute_result",
          "data": {
            "application/vnd.google.colaboratory.intrinsic+json": {
              "type": "string"
            },
            "text/plain": [
              "'/content'"
            ]
          },
          "metadata": {
            "tags": []
          },
          "execution_count": 3
        }
      ]
    },
    {
      "cell_type": "code",
      "metadata": {
        "id": "1D-jVjvQaiFN",
        "colab": {
          "base_uri": "https://localhost:8080/"
        },
        "outputId": "fb7d6a6d-3a55-4605-934d-ac4cb8a91615"
      },
      "source": [
        "cd cartoon-gan/"
      ],
      "execution_count": null,
      "outputs": [
        {
          "output_type": "stream",
          "text": [
            "/content/cartoon-gan\n"
          ],
          "name": "stdout"
        }
      ]
    },
    {
      "cell_type": "code",
      "metadata": {
        "id": "HHyeMzG5auxT",
        "colab": {
          "base_uri": "https://localhost:8080/"
        },
        "outputId": "68900434-780b-4163-fe39-2d2d0a06296c"
      },
      "source": [
        "!python predict.py -i '/content/cartoon-gan/data' -o '/content/output_folder/output_image9.png'"
      ],
      "execution_count": null,
      "outputs": [
        {
          "output_type": "stream",
          "text": [
            "Processing files:  82% 118/144 [00:04<00:00, 27.21it/s]\n",
            "Traceback (most recent call last):\n",
            "  File \"predict.py\", line 112, in <module>\n",
            "    predict_file(file_path, output_file_path)\n",
            "  File \"predict.py\", line 56, in predict_file\n",
            "    predicted_image = predict_images([image])[0]\n",
            "  File \"predict.py\", line 36, in predict_images\n",
            "    generated_images = inv_normalize(generated_images)\n",
            "  File \"predict.py\", line 23, in inv_normalize\n",
            "    mean = torch.Tensor([0.485+0.1, 0.456+0.1, 0.406+0.1]).to(device)\n",
            "KeyboardInterrupt\n"
          ],
          "name": "stdout"
        }
      ]
    },
    {
      "cell_type": "code",
      "metadata": {
        "id": "Hqv84AkNjqJi",
        "colab": {
          "base_uri": "https://localhost:8080/"
        },
        "outputId": "14fa2196-563f-4200-f769-cedb0a27a80b"
      },
      "source": [
        "pip install ffmpeg"
      ],
      "execution_count": null,
      "outputs": [
        {
          "output_type": "stream",
          "text": [
            "Requirement already satisfied: ffmpeg in /usr/local/lib/python3.7/dist-packages (1.4)\n"
          ],
          "name": "stdout"
        }
      ]
    },
    {
      "cell_type": "code",
      "metadata": {
        "id": "8lf8NTxSuyUd"
      },
      "source": [
        "from IPython.display import display, Javascript\n",
        "from google.colab.output import eval_js\n",
        "from base64 import b64decode\n",
        "\n",
        "def take_photo(filename='photo.png', quality=0.8):\n",
        "  js = Javascript('''\n",
        "    async function takePhoto(quality) {\n",
        "      const div = document.createElement('div');\n",
        "      const capture = document.createElement('button');\n",
        "      capture.textContent = 'Capture';\n",
        "      div.appendChild(capture);\n",
        "\n",
        "      const video = document.createElement('video');\n",
        "      video.style.display = 'block';\n",
        "      const stream = await navigator.mediaDevices.getUserMedia({video: true});\n",
        "\n",
        "      document.body.appendChild(div);\n",
        "      div.appendChild(video);\n",
        "      video.srcObject = stream;\n",
        "      await video.play();\n",
        "\n",
        "      // Resize the output to fit the video element.\n",
        "      google.colab.output.setIframeHeight(document.documentElement.scrollHeight, true);\n",
        "\n",
        "      // Wait for Capture to be clicked.\n",
        "      await new Promise((resolve) => capture.onclick = resolve);\n",
        "\n",
        "      const canvas = document.createElement('canvas');\n",
        "      canvas.width = video.videoWidth;\n",
        "      canvas.height = video.videoHeight;\n",
        "      canvas.getContext('2d').drawImage(video, 0, 0);\n",
        "      stream.getVideoTracks()[0].stop();\n",
        "      div.remove();\n",
        "      return canvas.toDataURL('image/jpeg', quality);\n",
        "    }\n",
        "    ''')\n",
        "  display(js)\n",
        "  data = eval_js('takePhoto({})'.format(quality))\n",
        "  binary = b64decode(data.split(',')[1])\n",
        "  with open(filename, 'wb') as f:\n",
        "    f.write(binary)\n",
        "  return filename"
      ],
      "execution_count": null,
      "outputs": []
    },
    {
      "cell_type": "code",
      "metadata": {
        "id": "RtrB5LUz7ljD",
        "colab": {
          "base_uri": "https://localhost:8080/",
          "height": 772
        },
        "outputId": "df846a8f-8bf1-4118-e6c1-091bc0854d3c"
      },
      "source": [
        " from IPython.display import Image\n",
        "try:\n",
        "  filename = take_photo()\n",
        "  print('Saved to {}'.format(filename))\n",
        "  \n",
        "  # Show the image which was just taken.\n",
        "  display(Image(filename))\n",
        "except Exception as err:\n",
        "  # Errors will be thrown if the user does not have a webcam or if they do not\n",
        "  # grant the page permission to access it.\n",
        "  print(str(err))\n",
        "!python predict.py -i /content/hey/video.mp4 -o /content/output_folder_video\n",
        "display(Image('/content/output_folder/output_image4.png'))"
      ],
      "execution_count": null,
      "outputs": [
        {
          "output_type": "display_data",
          "data": {
            "application/javascript": [
              "\n",
              "    async function takePhoto(quality) {\n",
              "      const div = document.createElement('div');\n",
              "      const capture = document.createElement('button');\n",
              "      capture.textContent = 'Capture';\n",
              "      div.appendChild(capture);\n",
              "\n",
              "      const video = document.createElement('video');\n",
              "      video.style.display = 'block';\n",
              "      const stream = await navigator.mediaDevices.getUserMedia({video: true});\n",
              "\n",
              "      document.body.appendChild(div);\n",
              "      div.appendChild(video);\n",
              "      video.srcObject = stream;\n",
              "      await video.play();\n",
              "\n",
              "      // Resize the output to fit the video element.\n",
              "      google.colab.output.setIframeHeight(document.documentElement.scrollHeight, true);\n",
              "\n",
              "      // Wait for Capture to be clicked.\n",
              "      await new Promise((resolve) => capture.onclick = resolve);\n",
              "\n",
              "      const canvas = document.createElement('canvas');\n",
              "      canvas.width = video.videoWidth;\n",
              "      canvas.height = video.videoHeight;\n",
              "      canvas.getContext('2d').drawImage(video, 0, 0);\n",
              "      stream.getVideoTracks()[0].stop();\n",
              "      div.remove();\n",
              "      return canvas.toDataURL('image/jpeg', quality);\n",
              "    }\n",
              "    "
            ],
            "text/plain": [
              "<IPython.core.display.Javascript object>"
            ]
          },
          "metadata": {
            "tags": []
          }
        },
        {
          "output_type": "stream",
          "text": [
            "Saved to photo.png\n"
          ],
          "name": "stdout"
        },
        {
          "output_type": "display_data",
          "data": {
            "image/png": "[encoded data removed]",
            "text/plain": [
              "<IPython.core.display.Image object>"
            ]
          },
          "metadata": {
            "tags": []
          }
        },
        {
          "output_type": "stream",
          "text": [
            "True\n",
            "Traceback (most recent call last):\n",
            "  File \"predict.py\", line 108, in <module>\n",
            "    predict_file(input_path, output_path)\n",
            "  File \"predict.py\", line 66, in predict_file\n",
            "    subprocess.run(\"ffmpeg -i \\\"{input_path}\\\" \\\"{os.path.join(temp_dir.name, 'frame_%07d.png')}\\\"\")\n",
            "  File \"/usr/lib/python3.7/subprocess.py\", line 488, in run\n",
            "    with Popen(*popenargs, **kwargs) as process:\n",
            "  File \"/usr/lib/python3.7/subprocess.py\", line 800, in __init__\n",
            "    restore_signals, start_new_session)\n",
            "  File \"/usr/lib/python3.7/subprocess.py\", line 1551, in _execute_child\n",
            "    raise child_exception_type(errno_num, err_msg, err_filename)\n",
            "FileNotFoundError: [Errno 2] No such file or directory: 'ffmpeg -i \"{input_path}\" \"{os.path.join(temp_dir.name, \\'frame_%07d.png\\')}\"': 'ffmpeg -i \"{input_path}\" \"{os.path.join(temp_dir.name, \\'frame_%07d.png\\')}\"'\n"
          ],
          "name": "stdout"
        },
        {
          "output_type": "display_data",
          "data": {
            "image/png": "/content/output_folder/output_image4.png",
            "text/plain": [
              "<IPython.core.display.Image object>"
            ]
          },
          "metadata": {
            "tags": []
          }
        }
      ]
    },
    {
      "cell_type": "code",
      "metadata": {
        "id": "l0OPohqBmFwl",
        "colab": {
          "base_uri": "https://localhost:8080/"
        },
        "outputId": "2e506481-32e3-40b7-835c-cffa7e3b7388"
      },
      "source": [
        "!pip install ffmpeg-python"
      ],
      "execution_count": null,
      "outputs": [
        {
          "output_type": "stream",
          "text": [
            "Collecting ffmpeg-python\n",
            "  Downloading https://files.pythonhosted.org/packages/d7/0c/56be52741f75bad4dc6555991fabd2e07b432d333da82c11ad701123888a/ffmpeg_python-0.2.0-py3-none-any.whl\n",
            "Requirement already satisfied: future in /usr/local/lib/python3.7/dist-packages (from ffmpeg-python) (0.16.0)\n",
            "Installing collected packages: ffmpeg-python\n",
            "Successfully installed ffmpeg-python-0.2.0\n"
          ],
          "name": "stdout"
        }
      ]
    },
    {
      "cell_type": "code",
      "metadata": {
        "id": "B0pe76gkp9lG"
      },
      "source": [
        "# Adapted from: https://stackoverflow.com/a/62804023/4879610\n",
        "from IPython.display import display, Javascript\n",
        "from google.colab.output import eval_js\n",
        "from base64 import b64decode\n",
        "\n",
        "def record_video(filename):\n",
        "  js = Javascript(\"\"\"\n",
        "    async function recordVideo() {\n",
        "      // mashes together the advanced_outputs.ipynb function provided by Colab, \n",
        "      // a bunch of stuff from Stack overflow, and some sample code from:\n",
        "      // https://developer.mozilla.org/en-US/docs/Web/API/MediaStream_Recording_API\n",
        "\n",
        "      // Optional frames per second argument.\n",
        "      const options = { mimeType: \"video/webm; codecs=vp9\" };\n",
        "      const div = document.createElement('div');\n",
        "      const capture = document.createElement('button');\n",
        "      const stopCapture = document.createElement(\"button\");\n",
        "      capture.textContent = \"Start Recording\";\n",
        "      capture.style.background = \"green\";\n",
        "      capture.style.color = \"white\";\n",
        "\n",
        "      stopCapture.textContent = \"Stop Recording\";\n",
        "      stopCapture.style.background = \"red\";\n",
        "      stopCapture.style.color = \"white\";\n",
        "      div.appendChild(capture);\n",
        "\n",
        "      const video = document.createElement('video');\n",
        "      const recordingVid = document.createElement(\"video\");\n",
        "      video.style.display = 'block';\n",
        "\n",
        "      const stream = await navigator.mediaDevices.getUserMedia({audio:true, video: true});\n",
        "      // create a media recorder instance, which is an object\n",
        "      // that will let you record what you stream.\n",
        "      let recorder = new MediaRecorder(stream, options);\n",
        "      document.body.appendChild(div);\n",
        "      div.appendChild(video);\n",
        "      // Video is a media element.  This line here sets the object which serves\n",
        "      // as the source of the media associated with the HTMLMediaElement\n",
        "      // Here, we'll set it equal to the stream.\n",
        "      video.srcObject = stream;\n",
        "\n",
        "      // from https://stackoverflow.com/questions/62529304/is-there-any-way-to-capture-live-video-using-webcam-in-google-colab#comment114644726_62804023\n",
        "      video.muted = true;\n",
        "\n",
        "      // We're inside an async function, so this await will fire off the playing\n",
        "      // of a video. It returns a Promise which is resolved when playback has \n",
        "      // been successfully started. Since this is async, the function will be \n",
        "      // paused until this has started playing. \n",
        "      await video.play();\n",
        "\n",
        "      // Resize the output to fit the video element.\n",
        "      google.colab.output.setIframeHeight(document.documentElement.scrollHeight, true);\n",
        "      // and now, just wait for the capture button to get clicked in order to\n",
        "      // start recording\n",
        "      await new Promise((resolve) => {\n",
        "        capture.onclick = resolve;\n",
        "      });\n",
        "      recorder.start();\n",
        "      capture.replaceWith(stopCapture);\n",
        "      // use a promise to tell it to stop recording\n",
        "      await new Promise((resolve) => stopCapture.onclick = resolve);\n",
        "      recorder.stop();\n",
        "\n",
        "      let recData = await new Promise((resolve) => recorder.ondataavailable = resolve);\n",
        "      let arrBuff = await recData.data.arrayBuffer();\n",
        "      \n",
        "      // stop the stream and remove the video element\n",
        "      stream.getVideoTracks()[0].stop();\n",
        "      div.remove();\n",
        "\n",
        "      let binaryString = \"\";\n",
        "      let bytes = new Uint8Array(arrBuff);\n",
        "      bytes.forEach((byte) => {\n",
        "        binaryString += String.fromCharCode(byte);\n",
        "      })\n",
        "      return btoa(binaryString);\n",
        "\n",
        "    }\n",
        "    \"\"\")\n",
        "  try:\n",
        "    display(js)\n",
        "    data = eval_js('recordVideo({})')\n",
        "    binary = b64decode(data)\n",
        "    with open(filename, \"wb\") as video_file:\n",
        "      video_file.write(binary)\n",
        "    print(\n",
        "        f\"Finished recording video. Saved binary under filename in current working directory: {filename}\"\n",
        "    )\n",
        "  except Exception as err:\n",
        "      # In case any exceptions arise\n",
        "      print(str(err))\n"
      ],
      "execution_count": null,
      "outputs": []
    },
    {
      "cell_type": "code",
      "metadata": {
        "id": "3lw79NFxqCcM"
      },
      "source": [
        "from IPython.display import HTML\n",
        "from base64 import b64encode\n",
        "\n",
        "def show_video(video_path, video_width = 600):\n",
        "  # show saved video in colab.\n",
        "  video_file = open(video_path, \"r+b\").read()\n",
        "\n",
        "  video_url = f\"data:video/mp4;base64,{b64encode(video_file).decode()}\"\n",
        "  return HTML(f\"\"\"<video width={video_width} controls><source src=\"{video_url}\"></video>\"\"\")"
      ],
      "execution_count": null,
      "outputs": []
    },
    {
      "cell_type": "code",
      "metadata": {
        "colab": {
          "base_uri": "https://localhost:8080/",
          "height": 34
        },
        "id": "Sn7K8LPBwyT6",
        "outputId": "ea051e1d-43fd-4bae-cabe-d9b050518524"
      },
      "source": [
        "video_path = \"test1.mp4\"\n",
        "record_video(video_path)"
      ],
      "execution_count": null,
      "outputs": [
        {
          "output_type": "display_data",
          "data": {
            "application/javascript": [
              "\n",
              "    async function recordVideo() {\n",
              "      // mashes together the advanced_outputs.ipynb function provided by Colab, \n",
              "      // a bunch of stuff from Stack overflow, and some sample code from:\n",
              "      // https://developer.mozilla.org/en-US/docs/Web/API/MediaStream_Recording_API\n",
              "\n",
              "      // Optional frames per second argument.\n",
              "      const options = { mimeType: \"video/webm; codecs=vp9\" };\n",
              "      const div = document.createElement('div');\n",
              "      const capture = document.createElement('button');\n",
              "      const stopCapture = document.createElement(\"button\");\n",
              "      capture.textContent = \"Start Recording\";\n",
              "      capture.style.background = \"green\";\n",
              "      capture.style.color = \"white\";\n",
              "\n",
              "      stopCapture.textContent = \"Stop Recording\";\n",
              "      stopCapture.style.background = \"red\";\n",
              "      stopCapture.style.color = \"white\";\n",
              "      div.appendChild(capture);\n",
              "\n",
              "      const video = document.createElement('video');\n",
              "      const recordingVid = document.createElement(\"video\");\n",
              "      video.style.display = 'block';\n",
              "\n",
              "      const stream = await navigator.mediaDevices.getUserMedia({audio:true, video: true});\n",
              "      // create a media recorder instance, which is an object\n",
              "      // that will let you record what you stream.\n",
              "      let recorder = new MediaRecorder(stream, options);\n",
              "      document.body.appendChild(div);\n",
              "      div.appendChild(video);\n",
              "      // Video is a media element.  This line here sets the object which serves\n",
              "      // as the source of the media associated with the HTMLMediaElement\n",
              "      // Here, we'll set it equal to the stream.\n",
              "      video.srcObject = stream;\n",
              "\n",
              "      // from https://stackoverflow.com/questions/62529304/is-there-any-way-to-capture-live-video-using-webcam-in-google-colab#comment114644726_62804023\n",
              "      video.muted = true;\n",
              "\n",
              "      // We're inside an async function, so this await will fire off the playing\n",
              "      // of a video. It returns a Promise which is resolved when playback has \n",
              "      // been successfully started. Since this is async, the function will be \n",
              "      // paused until this has started playing. \n",
              "      await video.play();\n",
              "\n",
              "      // Resize the output to fit the video element.\n",
              "      google.colab.output.setIframeHeight(document.documentElement.scrollHeight, true);\n",
              "      // and now, just wait for the capture button to get clicked in order to\n",
              "      // start recording\n",
              "      await new Promise((resolve) => {\n",
              "        capture.onclick = resolve;\n",
              "      });\n",
              "      recorder.start();\n",
              "      capture.replaceWith(stopCapture);\n",
              "      // use a promise to tell it to stop recording\n",
              "      await new Promise((resolve) => stopCapture.onclick = resolve);\n",
              "      recorder.stop();\n",
              "\n",
              "      let recData = await new Promise((resolve) => recorder.ondataavailable = resolve);\n",
              "      let arrBuff = await recData.data.arrayBuffer();\n",
              "      \n",
              "      // stop the stream and remove the video element\n",
              "      stream.getVideoTracks()[0].stop();\n",
              "      div.remove();\n",
              "\n",
              "      let binaryString = \"\";\n",
              "      let bytes = new Uint8Array(arrBuff);\n",
              "      bytes.forEach((byte) => {\n",
              "        binaryString += String.fromCharCode(byte);\n",
              "      })\n",
              "      return btoa(binaryString);\n",
              "\n",
              "    }\n",
              "    "
            ],
            "text/plain": [
              "<IPython.core.display.Javascript object>"
            ]
          },
          "metadata": {
            "tags": []
          }
        },
        {
          "output_type": "stream",
          "text": [
            "Finished recording video. Saved binary under filename in current working directory: test1.mp4\n"
          ],
          "name": "stdout"
        }
      ]
    },
    {
      "cell_type": "code",
      "metadata": {
        "colab": {
          "base_uri": "https://localhost:8080/",
          "height": 279
        },
        "id": "sF1jH2XNw1F9",
        "outputId": "866559f5-7fde-4b45-aa4f-9594ed23c3f7"
      },
      "source": [
        "show_video(\"video.mp4\")"
      ],
      "execution_count": null,
      "outputs": [
        {
          "output_type": "error",
          "ename": "FileNotFoundError",
          "evalue": "ignored",
          "traceback": [
            "\u001b[0;31m---------------------------------------------------------------------------\u001b[0m",
            "\u001b[0;31mFileNotFoundError\u001b[0m                         Traceback (most recent call last)",
            "\u001b[0;32m<ipython-input-51-2ae5bd237921>\u001b[0m in \u001b[0;36m<module>\u001b[0;34m()\u001b[0m\n\u001b[0;32m----> 1\u001b[0;31m \u001b[0mshow_video\u001b[0m\u001b[0;34m(\u001b[0m\u001b[0;34m\"video.mp4\"\u001b[0m\u001b[0;34m)\u001b[0m\u001b[0;34m\u001b[0m\u001b[0;34m\u001b[0m\u001b[0m\n\u001b[0m",
            "\u001b[0;32m<ipython-input-47-87ed54986cb9>\u001b[0m in \u001b[0;36mshow_video\u001b[0;34m(video_path, video_width)\u001b[0m\n\u001b[1;32m      4\u001b[0m \u001b[0;32mdef\u001b[0m \u001b[0mshow_video\u001b[0m\u001b[0;34m(\u001b[0m\u001b[0mvideo_path\u001b[0m\u001b[0;34m,\u001b[0m \u001b[0mvideo_width\u001b[0m \u001b[0;34m=\u001b[0m \u001b[0;36m600\u001b[0m\u001b[0;34m)\u001b[0m\u001b[0;34m:\u001b[0m\u001b[0;34m\u001b[0m\u001b[0;34m\u001b[0m\u001b[0m\n\u001b[1;32m      5\u001b[0m   \u001b[0;31m# show saved video in colab.\u001b[0m\u001b[0;34m\u001b[0m\u001b[0;34m\u001b[0m\u001b[0;34m\u001b[0m\u001b[0m\n\u001b[0;32m----> 6\u001b[0;31m   \u001b[0mvideo_file\u001b[0m \u001b[0;34m=\u001b[0m \u001b[0mopen\u001b[0m\u001b[0;34m(\u001b[0m\u001b[0mvideo_path\u001b[0m\u001b[0;34m,\u001b[0m \u001b[0;34m\"r+b\"\u001b[0m\u001b[0;34m)\u001b[0m\u001b[0;34m.\u001b[0m\u001b[0mread\u001b[0m\u001b[0;34m(\u001b[0m\u001b[0;34m)\u001b[0m\u001b[0;34m\u001b[0m\u001b[0;34m\u001b[0m\u001b[0m\n\u001b[0m\u001b[1;32m      7\u001b[0m \u001b[0;34m\u001b[0m\u001b[0m\n\u001b[1;32m      8\u001b[0m   \u001b[0mvideo_url\u001b[0m \u001b[0;34m=\u001b[0m \u001b[0;34mf\"data:video/mp4;base64,{b64encode(video_file).decode()}\"\u001b[0m\u001b[0;34m\u001b[0m\u001b[0;34m\u001b[0m\u001b[0m\n",
            "\u001b[0;31mFileNotFoundError\u001b[0m: [Errno 2] No such file or directory: 'video.mp4'"
          ]
        }
      ]
    },
    {
      "cell_type": "code",
      "metadata": {
        "id": "Er1Y9s6Gw8-b",
        "colab": {
          "base_uri": "https://localhost:8080/"
        },
        "outputId": "0061f77f-a04c-4c04-e0e2-9bb2713720d2"
      },
      "source": [
        "cd videoshiz/"
      ],
      "execution_count": null,
      "outputs": [
        {
          "output_type": "stream",
          "text": [
            "/content/cartoon-gan/videoshiz\n"
          ],
          "name": "stdout"
        }
      ]
    },
    {
      "cell_type": "code",
      "metadata": {
        "id": "fxVZH3kXgcs4"
      },
      "source": [
        "\n",
        "import cv2\n",
        "import numpy as np\n",
        "\n",
        "cap = cv2.VideoCapture('/content/cartoon-gan/test1.mp4')\n",
        "if (cap.isOpened()== False):\n",
        "  print(\"Error opening video stream or file\")\n",
        "count = 0\n",
        "while(cap.isOpened()):\n",
        "  count+=1\n",
        "  ret, frame = cap.read()\n",
        "  if ret == True:\n",
        "    cv2.imwrite(\"frame%d.jpg\" % count,frame)\n",
        "    if cv2.waitKey(25) & 0xFF == ord('q'):\n",
        "      break\n",
        "  else:\n",
        "    break\n",
        "cap.release()\n",
        "cv2.destroyAllWindows()"
      ],
      "execution_count": null,
      "outputs": []
    },
    {
      "cell_type": "code",
      "metadata": {
        "colab": {
          "base_uri": "https://localhost:8080/"
        },
        "id": "dm7C94YJGwal",
        "outputId": "15d1cf52-c415-4e6a-e953-dff691a64ced"
      },
      "source": [
        "cd '/content/'\n"
      ],
      "execution_count": null,
      "outputs": [
        {
          "output_type": "stream",
          "text": [
            "/content\n"
          ],
          "name": "stdout"
        }
      ]
    },
    {
      "cell_type": "code",
      "metadata": {
        "colab": {
          "base_uri": "https://localhost:8080/"
        },
        "id": "F2Hq0ZayE-9Q",
        "outputId": "79ff1257-6979-4c6c-bf37-1adb9dd6c67b"
      },
      "source": [
        "!python predict.py -i '/content/cartoon-gan/videoshiz' -o '/content/output_folder/videoanime'"
      ],
      "execution_count": null,
      "outputs": [
        {
          "output_type": "stream",
          "text": [
            "Processing files:  32% 76/238 [00:02<00:05, 27.80it/s]\n",
            "Traceback (most recent call last):\n",
            "  File \"predict.py\", line 112, in <module>\n",
            "    predict_file(file_path, output_file_path)\n",
            "  File \"predict.py\", line 54, in predict_file\n",
            "    if mimetypes.guess_type(input_path)[0].startswith(\"image\"):\n",
            "AttributeError: 'NoneType' object has no attribute 'startswith'\n"
          ],
          "name": "stdout"
        }
      ]
    },
    {
      "cell_type": "code",
      "metadata": {
        "id": "PBSgRiIYcs2c",
        "colab": {
          "base_uri": "https://localhost:8080/"
        },
        "outputId": "4f1da104-d6b0-43ee-8561-462d8c9d2ccc"
      },
      "source": [
        "import cv2\n",
        "import numpy as np\n",
        "import os\n",
        "from os.path import isfile, join\n",
        "\n",
        "\n",
        "def convert_frames_to_video(pathIn,pathOut,fps):\n",
        "    frame_array = []\n",
        "    files = [f for f in os.listdir(pathIn) if isfile(join(pathIn, f))]\n",
        "    #for sorting the file names properly\n",
        "    files.sort(key = lambda x: int(x[5:-4]))\n",
        "    for i in range(len(files)):\n",
        "        filename=pathIn + files[i]\n",
        "        #reading each files\n",
        "        img = cv2.imread(filename)\n",
        "        print(filename)\n",
        "        cv2.resize(img, (480, 640))\n",
        "        height, width, layers = img.shape\n",
        "        size = (width,height)\n",
        "        print(filename)\n",
        "        #inserting the frames into an image array\n",
        "        frame_array.append(img)\n",
        "    out = cv2.VideoWriter(pathOut,cv2.VideoWriter_fourcc(*'DIVX'), fps, size)\n",
        "    for i in range(len(frame_array)):\n",
        "        # writing to a image array\n",
        "        out.write(frame_array[i])\n",
        "    out.release()\n",
        "def main():\n",
        "    pathIn= './output_folder/videoanime/'\n",
        "    pathOut = './video3.avi'\n",
        "    fps = 25.0\n",
        "    convert_frames_to_video(pathIn, pathOut, fps)\n",
        "if __name__==\"__main__\":\n",
        "    main()"
      ],
      "execution_count": null,
      "outputs": [
        {
          "output_type": "stream",
          "text": [
            "./output_folder/videoanime/frame1.jpg\n",
            "./output_folder/videoanime/frame1.jpg\n",
            "./output_folder/videoanime/frame2.jpg\n",
            "./output_folder/videoanime/frame2.jpg\n",
            "./output_folder/videoanime/frame4.jpg\n",
            "./output_folder/videoanime/frame4.jpg\n",
            "./output_folder/videoanime/frame6.jpg\n",
            "./output_folder/videoanime/frame6.jpg\n",
            "./output_folder/videoanime/frame7.jpg\n",
            "./output_folder/videoanime/frame7.jpg\n",
            "./output_folder/videoanime/frame8.jpg\n",
            "./output_folder/videoanime/frame8.jpg\n",
            "./output_folder/videoanime/frame9.jpg\n",
            "./output_folder/videoanime/frame9.jpg\n",
            "./output_folder/videoanime/frame10.jpg\n",
            "./output_folder/videoanime/frame10.jpg\n",
            "./output_folder/videoanime/frame11.jpg\n",
            "./output_folder/videoanime/frame11.jpg\n",
            "./output_folder/videoanime/frame12.jpg\n",
            "./output_folder/videoanime/frame12.jpg\n",
            "./output_folder/videoanime/frame13.jpg\n",
            "./output_folder/videoanime/frame13.jpg\n",
            "./output_folder/videoanime/frame14.jpg\n",
            "./output_folder/videoanime/frame14.jpg\n",
            "./output_folder/videoanime/frame15.jpg\n",
            "./output_folder/videoanime/frame15.jpg\n",
            "./output_folder/videoanime/frame16.jpg\n",
            "./output_folder/videoanime/frame16.jpg\n",
            "./output_folder/videoanime/frame17.jpg\n",
            "./output_folder/videoanime/frame17.jpg\n",
            "./output_folder/videoanime/frame18.jpg\n",
            "./output_folder/videoanime/frame18.jpg\n",
            "./output_folder/videoanime/frame19.jpg\n",
            "./output_folder/videoanime/frame19.jpg\n",
            "./output_folder/videoanime/frame22.jpg\n",
            "./output_folder/videoanime/frame22.jpg\n",
            "./output_folder/videoanime/frame23.jpg\n",
            "./output_folder/videoanime/frame23.jpg\n",
            "./output_folder/videoanime/frame24.jpg\n",
            "./output_folder/videoanime/frame24.jpg\n",
            "./output_folder/videoanime/frame25.jpg\n",
            "./output_folder/videoanime/frame25.jpg\n",
            "./output_folder/videoanime/frame26.jpg\n",
            "./output_folder/videoanime/frame26.jpg\n",
            "./output_folder/videoanime/frame27.jpg\n",
            "./output_folder/videoanime/frame27.jpg\n",
            "./output_folder/videoanime/frame28.jpg\n",
            "./output_folder/videoanime/frame28.jpg\n",
            "./output_folder/videoanime/frame29.jpg\n",
            "./output_folder/videoanime/frame29.jpg\n",
            "./output_folder/videoanime/frame30.jpg\n",
            "./output_folder/videoanime/frame30.jpg\n",
            "./output_folder/videoanime/frame31.jpg\n",
            "./output_folder/videoanime/frame31.jpg\n",
            "./output_folder/videoanime/frame32.jpg\n",
            "./output_folder/videoanime/frame32.jpg\n",
            "./output_folder/videoanime/frame33.jpg\n",
            "./output_folder/videoanime/frame33.jpg\n",
            "./output_folder/videoanime/frame34.jpg\n",
            "./output_folder/videoanime/frame34.jpg\n",
            "./output_folder/videoanime/frame35.jpg\n",
            "./output_folder/videoanime/frame35.jpg\n",
            "./output_folder/videoanime/frame36.jpg\n",
            "./output_folder/videoanime/frame36.jpg\n",
            "./output_folder/videoanime/frame37.jpg\n",
            "./output_folder/videoanime/frame37.jpg\n",
            "./output_folder/videoanime/frame38.jpg\n",
            "./output_folder/videoanime/frame38.jpg\n",
            "./output_folder/videoanime/frame39.jpg\n",
            "./output_folder/videoanime/frame39.jpg\n",
            "./output_folder/videoanime/frame40.jpg\n",
            "./output_folder/videoanime/frame40.jpg\n",
            "./output_folder/videoanime/frame41.jpg\n",
            "./output_folder/videoanime/frame41.jpg\n",
            "./output_folder/videoanime/frame42.jpg\n",
            "./output_folder/videoanime/frame42.jpg\n",
            "./output_folder/videoanime/frame43.jpg\n",
            "./output_folder/videoanime/frame43.jpg\n",
            "./output_folder/videoanime/frame44.jpg\n",
            "./output_folder/videoanime/frame44.jpg\n",
            "./output_folder/videoanime/frame45.jpg\n",
            "./output_folder/videoanime/frame45.jpg\n",
            "./output_folder/videoanime/frame46.jpg\n",
            "./output_folder/videoanime/frame46.jpg\n",
            "./output_folder/videoanime/frame47.jpg\n",
            "./output_folder/videoanime/frame47.jpg\n",
            "./output_folder/videoanime/frame48.jpg\n",
            "./output_folder/videoanime/frame48.jpg\n",
            "./output_folder/videoanime/frame50.jpg\n",
            "./output_folder/videoanime/frame50.jpg\n",
            "./output_folder/videoanime/frame51.jpg\n",
            "./output_folder/videoanime/frame51.jpg\n",
            "./output_folder/videoanime/frame52.jpg\n",
            "./output_folder/videoanime/frame52.jpg\n",
            "./output_folder/videoanime/frame54.jpg\n",
            "./output_folder/videoanime/frame54.jpg\n",
            "./output_folder/videoanime/frame55.jpg\n",
            "./output_folder/videoanime/frame55.jpg\n",
            "./output_folder/videoanime/frame56.jpg\n",
            "./output_folder/videoanime/frame56.jpg\n",
            "./output_folder/videoanime/frame57.jpg\n",
            "./output_folder/videoanime/frame57.jpg\n",
            "./output_folder/videoanime/frame58.jpg\n",
            "./output_folder/videoanime/frame58.jpg\n",
            "./output_folder/videoanime/frame59.jpg\n",
            "./output_folder/videoanime/frame59.jpg\n",
            "./output_folder/videoanime/frame60.jpg\n",
            "./output_folder/videoanime/frame60.jpg\n",
            "./output_folder/videoanime/frame62.jpg\n",
            "./output_folder/videoanime/frame62.jpg\n",
            "./output_folder/videoanime/frame64.jpg\n",
            "./output_folder/videoanime/frame64.jpg\n",
            "./output_folder/videoanime/frame66.jpg\n",
            "./output_folder/videoanime/frame66.jpg\n",
            "./output_folder/videoanime/frame67.jpg\n",
            "./output_folder/videoanime/frame67.jpg\n",
            "./output_folder/videoanime/frame68.jpg\n",
            "./output_folder/videoanime/frame68.jpg\n",
            "./output_folder/videoanime/frame69.jpg\n",
            "./output_folder/videoanime/frame69.jpg\n",
            "./output_folder/videoanime/frame70.jpg\n",
            "./output_folder/videoanime/frame70.jpg\n",
            "./output_folder/videoanime/frame71.jpg\n",
            "./output_folder/videoanime/frame71.jpg\n",
            "./output_folder/videoanime/frame73.jpg\n",
            "./output_folder/videoanime/frame73.jpg\n",
            "./output_folder/videoanime/frame74.jpg\n",
            "./output_folder/videoanime/frame74.jpg\n",
            "./output_folder/videoanime/frame76.jpg\n",
            "./output_folder/videoanime/frame76.jpg\n",
            "./output_folder/videoanime/frame78.jpg\n",
            "./output_folder/videoanime/frame78.jpg\n",
            "./output_folder/videoanime/frame80.jpg\n",
            "./output_folder/videoanime/frame80.jpg\n",
            "./output_folder/videoanime/frame81.jpg\n",
            "./output_folder/videoanime/frame81.jpg\n",
            "./output_folder/videoanime/frame82.jpg\n",
            "./output_folder/videoanime/frame82.jpg\n",
            "./output_folder/videoanime/frame83.jpg\n",
            "./output_folder/videoanime/frame83.jpg\n",
            "./output_folder/videoanime/frame84.jpg\n",
            "./output_folder/videoanime/frame84.jpg\n",
            "./output_folder/videoanime/frame86.jpg\n",
            "./output_folder/videoanime/frame86.jpg\n",
            "./output_folder/videoanime/frame87.jpg\n",
            "./output_folder/videoanime/frame87.jpg\n",
            "./output_folder/videoanime/frame88.jpg\n",
            "./output_folder/videoanime/frame88.jpg\n",
            "./output_folder/videoanime/frame89.jpg\n",
            "./output_folder/videoanime/frame89.jpg\n",
            "./output_folder/videoanime/frame90.jpg\n",
            "./output_folder/videoanime/frame90.jpg\n",
            "./output_folder/videoanime/frame91.jpg\n",
            "./output_folder/videoanime/frame91.jpg\n",
            "./output_folder/videoanime/frame92.jpg\n",
            "./output_folder/videoanime/frame92.jpg\n",
            "./output_folder/videoanime/frame93.jpg\n",
            "./output_folder/videoanime/frame93.jpg\n",
            "./output_folder/videoanime/frame94.jpg\n",
            "./output_folder/videoanime/frame94.jpg\n",
            "./output_folder/videoanime/frame95.jpg\n",
            "./output_folder/videoanime/frame95.jpg\n",
            "./output_folder/videoanime/frame96.jpg\n",
            "./output_folder/videoanime/frame96.jpg\n",
            "./output_folder/videoanime/frame97.jpg\n",
            "./output_folder/videoanime/frame97.jpg\n",
            "./output_folder/videoanime/frame98.jpg\n",
            "./output_folder/videoanime/frame98.jpg\n",
            "./output_folder/videoanime/frame99.jpg\n",
            "./output_folder/videoanime/frame99.jpg\n",
            "./output_folder/videoanime/frame100.jpg\n",
            "./output_folder/videoanime/frame100.jpg\n",
            "./output_folder/videoanime/frame101.jpg\n",
            "./output_folder/videoanime/frame101.jpg\n",
            "./output_folder/videoanime/frame102.jpg\n",
            "./output_folder/videoanime/frame102.jpg\n",
            "./output_folder/videoanime/frame103.jpg\n",
            "./output_folder/videoanime/frame103.jpg\n",
            "./output_folder/videoanime/frame104.jpg\n",
            "./output_folder/videoanime/frame104.jpg\n",
            "./output_folder/videoanime/frame105.jpg\n",
            "./output_folder/videoanime/frame105.jpg\n",
            "./output_folder/videoanime/frame106.jpg\n",
            "./output_folder/videoanime/frame106.jpg\n",
            "./output_folder/videoanime/frame107.jpg\n",
            "./output_folder/videoanime/frame107.jpg\n",
            "./output_folder/videoanime/frame108.jpg\n",
            "./output_folder/videoanime/frame108.jpg\n",
            "./output_folder/videoanime/frame109.jpg\n",
            "./output_folder/videoanime/frame109.jpg\n",
            "./output_folder/videoanime/frame110.jpg\n",
            "./output_folder/videoanime/frame110.jpg\n",
            "./output_folder/videoanime/frame111.jpg\n",
            "./output_folder/videoanime/frame111.jpg\n",
            "./output_folder/videoanime/frame113.jpg\n",
            "./output_folder/videoanime/frame113.jpg\n",
            "./output_folder/videoanime/frame114.jpg\n",
            "./output_folder/videoanime/frame114.jpg\n",
            "./output_folder/videoanime/frame115.jpg\n",
            "./output_folder/videoanime/frame115.jpg\n",
            "./output_folder/videoanime/frame116.jpg\n",
            "./output_folder/videoanime/frame116.jpg\n",
            "./output_folder/videoanime/frame117.jpg\n",
            "./output_folder/videoanime/frame117.jpg\n",
            "./output_folder/videoanime/frame119.jpg\n",
            "./output_folder/videoanime/frame119.jpg\n",
            "./output_folder/videoanime/frame120.jpg\n",
            "./output_folder/videoanime/frame120.jpg\n",
            "./output_folder/videoanime/frame121.jpg\n",
            "./output_folder/videoanime/frame121.jpg\n",
            "./output_folder/videoanime/frame122.jpg\n",
            "./output_folder/videoanime/frame122.jpg\n",
            "./output_folder/videoanime/frame124.jpg\n",
            "./output_folder/videoanime/frame124.jpg\n",
            "./output_folder/videoanime/frame125.jpg\n",
            "./output_folder/videoanime/frame125.jpg\n",
            "./output_folder/videoanime/frame126.jpg\n",
            "./output_folder/videoanime/frame126.jpg\n",
            "./output_folder/videoanime/frame128.jpg\n",
            "./output_folder/videoanime/frame128.jpg\n",
            "./output_folder/videoanime/frame129.jpg\n",
            "./output_folder/videoanime/frame129.jpg\n",
            "./output_folder/videoanime/frame130.jpg\n",
            "./output_folder/videoanime/frame130.jpg\n",
            "./output_folder/videoanime/frame131.jpg\n",
            "./output_folder/videoanime/frame131.jpg\n",
            "./output_folder/videoanime/frame132.jpg\n",
            "./output_folder/videoanime/frame132.jpg\n",
            "./output_folder/videoanime/frame134.jpg\n",
            "./output_folder/videoanime/frame134.jpg\n",
            "./output_folder/videoanime/frame135.jpg\n",
            "./output_folder/videoanime/frame135.jpg\n",
            "./output_folder/videoanime/frame136.jpg\n",
            "./output_folder/videoanime/frame136.jpg\n",
            "./output_folder/videoanime/frame137.jpg\n",
            "./output_folder/videoanime/frame137.jpg\n",
            "./output_folder/videoanime/frame138.jpg\n",
            "./output_folder/videoanime/frame138.jpg\n",
            "./output_folder/videoanime/frame140.jpg\n",
            "./output_folder/videoanime/frame140.jpg\n",
            "./output_folder/videoanime/frame141.jpg\n",
            "./output_folder/videoanime/frame141.jpg\n",
            "./output_folder/videoanime/frame142.jpg\n",
            "./output_folder/videoanime/frame142.jpg\n",
            "./output_folder/videoanime/frame147.jpg\n",
            "./output_folder/videoanime/frame147.jpg\n",
            "./output_folder/videoanime/frame148.jpg\n",
            "./output_folder/videoanime/frame148.jpg\n",
            "./output_folder/videoanime/frame149.jpg\n",
            "./output_folder/videoanime/frame149.jpg\n",
            "./output_folder/videoanime/frame150.jpg\n",
            "./output_folder/videoanime/frame150.jpg\n",
            "./output_folder/videoanime/frame151.jpg\n",
            "./output_folder/videoanime/frame151.jpg\n",
            "./output_folder/videoanime/frame152.jpg\n",
            "./output_folder/videoanime/frame152.jpg\n",
            "./output_folder/videoanime/frame153.jpg\n",
            "./output_folder/videoanime/frame153.jpg\n",
            "./output_folder/videoanime/frame154.jpg\n",
            "./output_folder/videoanime/frame154.jpg\n",
            "./output_folder/videoanime/frame155.jpg\n",
            "./output_folder/videoanime/frame155.jpg\n",
            "./output_folder/videoanime/frame156.jpg\n",
            "./output_folder/videoanime/frame156.jpg\n",
            "./output_folder/videoanime/frame157.jpg\n",
            "./output_folder/videoanime/frame157.jpg\n",
            "./output_folder/videoanime/frame158.jpg\n",
            "./output_folder/videoanime/frame158.jpg\n",
            "./output_folder/videoanime/frame159.jpg\n",
            "./output_folder/videoanime/frame159.jpg\n",
            "./output_folder/videoanime/frame160.jpg\n",
            "./output_folder/videoanime/frame160.jpg\n",
            "./output_folder/videoanime/frame161.jpg\n",
            "./output_folder/videoanime/frame161.jpg\n",
            "./output_folder/videoanime/frame162.jpg\n",
            "./output_folder/videoanime/frame162.jpg\n",
            "./output_folder/videoanime/frame163.jpg\n",
            "./output_folder/videoanime/frame163.jpg\n",
            "./output_folder/videoanime/frame165.jpg\n",
            "./output_folder/videoanime/frame165.jpg\n",
            "./output_folder/videoanime/frame166.jpg\n",
            "./output_folder/videoanime/frame166.jpg\n",
            "./output_folder/videoanime/frame167.jpg\n",
            "./output_folder/videoanime/frame167.jpg\n",
            "./output_folder/videoanime/frame168.jpg\n",
            "./output_folder/videoanime/frame168.jpg\n",
            "./output_folder/videoanime/frame169.jpg\n",
            "./output_folder/videoanime/frame169.jpg\n",
            "./output_folder/videoanime/frame170.jpg\n",
            "./output_folder/videoanime/frame170.jpg\n",
            "./output_folder/videoanime/frame171.jpg\n",
            "./output_folder/videoanime/frame171.jpg\n",
            "./output_folder/videoanime/frame172.jpg\n",
            "./output_folder/videoanime/frame172.jpg\n",
            "./output_folder/videoanime/frame173.jpg\n",
            "./output_folder/videoanime/frame173.jpg\n",
            "./output_folder/videoanime/frame174.jpg\n",
            "./output_folder/videoanime/frame174.jpg\n",
            "./output_folder/videoanime/frame175.jpg\n",
            "./output_folder/videoanime/frame175.jpg\n",
            "./output_folder/videoanime/frame176.jpg\n",
            "./output_folder/videoanime/frame176.jpg\n",
            "./output_folder/videoanime/frame177.jpg\n",
            "./output_folder/videoanime/frame177.jpg\n",
            "./output_folder/videoanime/frame178.jpg\n",
            "./output_folder/videoanime/frame178.jpg\n",
            "./output_folder/videoanime/frame179.jpg\n",
            "./output_folder/videoanime/frame179.jpg\n",
            "./output_folder/videoanime/frame180.jpg\n",
            "./output_folder/videoanime/frame180.jpg\n",
            "./output_folder/videoanime/frame181.jpg\n",
            "./output_folder/videoanime/frame181.jpg\n",
            "./output_folder/videoanime/frame182.jpg\n",
            "./output_folder/videoanime/frame182.jpg\n",
            "./output_folder/videoanime/frame183.jpg\n",
            "./output_folder/videoanime/frame183.jpg\n",
            "./output_folder/videoanime/frame184.jpg\n",
            "./output_folder/videoanime/frame184.jpg\n",
            "./output_folder/videoanime/frame185.jpg\n",
            "./output_folder/videoanime/frame185.jpg\n",
            "./output_folder/videoanime/frame186.jpg\n",
            "./output_folder/videoanime/frame186.jpg\n",
            "./output_folder/videoanime/frame187.jpg\n",
            "./output_folder/videoanime/frame187.jpg\n",
            "./output_folder/videoanime/frame188.jpg\n",
            "./output_folder/videoanime/frame188.jpg\n",
            "./output_folder/videoanime/frame189.jpg\n",
            "./output_folder/videoanime/frame189.jpg\n",
            "./output_folder/videoanime/frame190.jpg\n",
            "./output_folder/videoanime/frame190.jpg\n",
            "./output_folder/videoanime/frame191.jpg\n",
            "./output_folder/videoanime/frame191.jpg\n",
            "./output_folder/videoanime/frame192.jpg\n",
            "./output_folder/videoanime/frame192.jpg\n",
            "./output_folder/videoanime/frame195.jpg\n",
            "./output_folder/videoanime/frame195.jpg\n",
            "./output_folder/videoanime/frame196.jpg\n",
            "./output_folder/videoanime/frame196.jpg\n",
            "./output_folder/videoanime/frame197.jpg\n",
            "./output_folder/videoanime/frame197.jpg\n",
            "./output_folder/videoanime/frame198.jpg\n",
            "./output_folder/videoanime/frame198.jpg\n",
            "./output_folder/videoanime/frame199.jpg\n",
            "./output_folder/videoanime/frame199.jpg\n",
            "./output_folder/videoanime/frame200.jpg\n",
            "./output_folder/videoanime/frame200.jpg\n",
            "./output_folder/videoanime/frame201.jpg\n",
            "./output_folder/videoanime/frame201.jpg\n",
            "./output_folder/videoanime/frame203.jpg\n",
            "./output_folder/videoanime/frame203.jpg\n",
            "./output_folder/videoanime/frame204.jpg\n",
            "./output_folder/videoanime/frame204.jpg\n",
            "./output_folder/videoanime/frame205.jpg\n",
            "./output_folder/videoanime/frame205.jpg\n",
            "./output_folder/videoanime/frame206.jpg\n",
            "./output_folder/videoanime/frame206.jpg\n",
            "./output_folder/videoanime/frame207.jpg\n",
            "./output_folder/videoanime/frame207.jpg\n",
            "./output_folder/videoanime/frame208.jpg\n",
            "./output_folder/videoanime/frame208.jpg\n",
            "./output_folder/videoanime/frame209.jpg\n",
            "./output_folder/videoanime/frame209.jpg\n",
            "./output_folder/videoanime/frame210.jpg\n",
            "./output_folder/videoanime/frame210.jpg\n",
            "./output_folder/videoanime/frame211.jpg\n",
            "./output_folder/videoanime/frame211.jpg\n",
            "./output_folder/videoanime/frame212.jpg\n",
            "./output_folder/videoanime/frame212.jpg\n",
            "./output_folder/videoanime/frame213.jpg\n",
            "./output_folder/videoanime/frame213.jpg\n",
            "./output_folder/videoanime/frame214.jpg\n",
            "./output_folder/videoanime/frame214.jpg\n",
            "./output_folder/videoanime/frame215.jpg\n",
            "./output_folder/videoanime/frame215.jpg\n",
            "./output_folder/videoanime/frame216.jpg\n",
            "./output_folder/videoanime/frame216.jpg\n",
            "./output_folder/videoanime/frame217.jpg\n",
            "./output_folder/videoanime/frame217.jpg\n",
            "./output_folder/videoanime/frame218.jpg\n",
            "./output_folder/videoanime/frame218.jpg\n",
            "./output_folder/videoanime/frame219.jpg\n",
            "./output_folder/videoanime/frame219.jpg\n",
            "./output_folder/videoanime/frame220.jpg\n",
            "./output_folder/videoanime/frame220.jpg\n",
            "./output_folder/videoanime/frame221.jpg\n",
            "./output_folder/videoanime/frame221.jpg\n",
            "./output_folder/videoanime/frame222.jpg\n",
            "./output_folder/videoanime/frame222.jpg\n",
            "./output_folder/videoanime/frame223.jpg\n",
            "./output_folder/videoanime/frame223.jpg\n",
            "./output_folder/videoanime/frame224.jpg\n",
            "./output_folder/videoanime/frame224.jpg\n",
            "./output_folder/videoanime/frame226.jpg\n",
            "./output_folder/videoanime/frame226.jpg\n",
            "./output_folder/videoanime/frame227.jpg\n",
            "./output_folder/videoanime/frame227.jpg\n",
            "./output_folder/videoanime/frame228.jpg\n",
            "./output_folder/videoanime/frame228.jpg\n",
            "./output_folder/videoanime/frame229.jpg\n",
            "./output_folder/videoanime/frame229.jpg\n",
            "./output_folder/videoanime/frame230.jpg\n",
            "./output_folder/videoanime/frame230.jpg\n",
            "./output_folder/videoanime/frame231.jpg\n",
            "./output_folder/videoanime/frame231.jpg\n",
            "./output_folder/videoanime/frame232.jpg\n",
            "./output_folder/videoanime/frame232.jpg\n",
            "./output_folder/videoanime/frame233.jpg\n",
            "./output_folder/videoanime/frame233.jpg\n",
            "./output_folder/videoanime/frame234.jpg\n",
            "./output_folder/videoanime/frame234.jpg\n",
            "./output_folder/videoanime/frame235.jpg\n",
            "./output_folder/videoanime/frame235.jpg\n",
            "./output_folder/videoanime/frame236.jpg\n",
            "./output_folder/videoanime/frame236.jpg\n",
            "./output_folder/videoanime/frame237.jpg\n",
            "./output_folder/videoanime/frame237.jpg\n"
          ],
          "name": "stdout"
        }
      ]
    },
    {
      "cell_type": "code",
      "metadata": {
        "id": "AbqlQZ-61GbI",
        "colab": {
          "base_uri": "https://localhost:8080/"
        },
        "outputId": "df0c2432-e3e8-477c-a06e-82d66962d757"
      },
      "source": [
        "filename = './output_folder/output1/frame73.jpg'\n",
        "img1 = cv2.imread(filename)\n",
        "img1.shape"
      ],
      "execution_count": null,
      "outputs": [
        {
          "output_type": "execute_result",
          "data": {
            "text/plain": [
              "(256, 256, 3)"
            ]
          },
          "metadata": {
            "tags": []
          },
          "execution_count": 38
        }
      ]
    },
    {
      "cell_type": "code",
      "metadata": {
        "colab": {
          "base_uri": "https://localhost:8080/"
        },
        "id": "rtSu4O9v-yo3",
        "outputId": "d815212b-028d-40f1-9537-2c9f656ca89b"
      },
      "source": [
        "filename1 = './data/frame144.jpg'\n",
        "img2 = cv2.imread(filename1)\n",
        "img2.shape"
      ],
      "execution_count": null,
      "outputs": [
        {
          "output_type": "execute_result",
          "data": {
            "text/plain": [
              "(480, 640, 3)"
            ]
          },
          "metadata": {
            "tags": []
          },
          "execution_count": 39
        }
      ]
    },
    {
      "cell_type": "code",
      "metadata": {
        "id": "D5XMCeM2_0rM"
      },
      "source": [
        "cv2.resize(image, (480, 640))"
      ],
      "execution_count": null,
      "outputs": []
    }
  ]
}